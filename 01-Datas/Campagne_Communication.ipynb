{
 "cells": [
  {
   "cell_type": "markdown",
   "metadata": {},
   "source": [
    "# Campagne E-Commerce 💳"
   ]
  },
  {
   "cell_type": "markdown",
   "metadata": {},
   "source": [
    "## 📄 Création du Dataset - Déséquilibré"
   ]
  },
  {
   "cell_type": "markdown",
   "metadata": {},
   "source": [
    "Partie 1 : Génération des données aléatoires et création du DataFrame initial\n"
   ]
  },
  {
   "cell_type": "code",
   "execution_count": 1,
   "metadata": {},
   "outputs": [
    {
     "name": "stdout",
     "output_type": "stream",
     "text": [
      "        Campagne  Impressions  Nombre de clics  Nombre d’engagement  \\\n",
      "0  Promotion Été         4041             1975                  215   \n",
      "1  Promotion Été         2115              677                   89   \n",
      "2  Promotion Été         1658              803                  114   \n",
      "3  Promotion Été         2850             1152                  195   \n",
      "4  Promotion Été         4638             2173                  309   \n",
      "\n",
      "   Ajouts au panier  Nombre de ventes  Coûts                Date  Revenus  \\\n",
      "0                14                 0      2 2023-01-27 04:23:00        5   \n",
      "1                 4                 0      1 2023-01-22 18:56:00       15   \n",
      "2                 8                 0      2 2023-01-06 18:37:00        7   \n",
      "3                15                 0      1 2023-01-18 01:36:00       20   \n",
      "4                20                 0      2 2023-01-03 16:33:00       21   \n",
      "\n",
      "    ROI  ...  Type d’appareil Nombre d'Email envoyés Nombre d'Email livrés  \\\n",
      "0  1.53  ...         Tablette                   1699                   867   \n",
      "1  4.40  ...           Mobile                   1453                  1200   \n",
      "2  4.90  ...           Mobile                    730                  1494   \n",
      "3  2.39  ...           Mobile                   1180                   532   \n",
      "4  3.74  ...         Tablette                    569                  1512   \n",
      "\n",
      "   Nombre d'email ouvert Taux de désabonnement  \\\n",
      "0                     21                  0.14   \n",
      "1                     45                  0.17   \n",
      "2                     20                  0.14   \n",
      "3                     46                  0.10   \n",
      "4                     20                  0.14   \n",
      "\n",
      "  Nombre de clients perdus pendant la période  \\\n",
      "0                                           3   \n",
      "1                                           7   \n",
      "2                                           4   \n",
      "3                                           5   \n",
      "4                                          12   \n",
      "\n",
      "  Nombre Total de Clients au Début de la Période  \\\n",
      "0                                            943   \n",
      "1                                            796   \n",
      "2                                           1613   \n",
      "3                                           1329   \n",
      "4                                           1843   \n",
      "\n",
      "   Nombre Total de Clients Récurrents Nombre Total de Clients Uniques  \\\n",
      "0                                 134                             775   \n",
      "1                                 130                             399   \n",
      "2                                  54                             841   \n",
      "3                                 170                             320   \n",
      "4                                 121                             679   \n",
      "\n",
      "  Nombre de visites  \n",
      "0              2472  \n",
      "1              1004  \n",
      "2              3879  \n",
      "3              1701  \n",
      "4              4205  \n",
      "\n",
      "[5 rows x 33 columns]\n",
      "Les données suivent-elles un ordre décroissant selon les étapes du parcours client? : True\n"
     ]
    }
   ],
   "source": [
    "import numpy as np\n",
    "import random\n",
    "from datetime import datetime\n",
    "\n",
    "# Nombre de lignes de données à générer\n",
    "n_rows = 2000\n",
    "\n",
    "# Définir les pourcentages typiques pour chaque étape\n",
    "impressions = np.random.randint(1000, 5000, size=n_rows)\n",
    "clicks = (impressions * np.random.uniform(0.5, 0.3, size=n_rows)).astype(int)\n",
    "engagements = (clicks * np.random.uniform(0.2, 0.1, size=n_rows)).astype(int)\n",
    "add_to_cart = (engagements * np.random.uniform(0.08, 0.05, size=n_rows)).astype(int)\n",
    "conversions = (add_to_cart * np.random.uniform(0.04, 0.01, size=n_rows)).astype(int)\n",
    "\n",
    "# Générer les données\n",
    "data = {\n",
    "    'Campagne': ['Promotion Été'] * n_rows,\n",
    "    'Impressions': impressions,\n",
    "    'Nombre de clics': clicks,\n",
    "    'Nombre d’engagement': engagements,\n",
    "    'Ajouts au panier': add_to_cart,\n",
    "    'Nombre de ventes': conversions,\n",
    "    'Coûts': np.random.randint(1, 3, size=n_rows),\n",
    "    'Date': [datetime(2023, 1, random.randint(1, 28), random.randint(0, 23), random.randint(0, 59)) for _ in range(n_rows)],\n",
    "    'Revenus': np.random.randint(5, 30, size=n_rows),\n",
    "    'ROI': np.round(np.random.uniform(1, 5, size=n_rows), 2),\n",
    "    'Total des ventes': np.random.randint(5, 20, size=n_rows),\n",
    "    'Age des clients': [random.choice(['18-25', '26-35', '36-45', '46-55', '56-65', '65+']) for _ in range(n_rows)],\n",
    "    'Sexe des clients': [random.choice(['Hommes', 'Femmes']) for _ in range(n_rows)],\n",
    "    'Nombre de conversions': conversions,\n",
    "    'Pays': [random.choice(['France', 'Autre']) for _ in range(n_rows)],\n",
    "    'Villes': [random.choice(['Paris', 'Marseille', 'Lyon', 'Toulouse', 'Nice', 'Nantes', 'Strasbourg', 'Montpellier', 'Bordeaux', 'Lille']) for _ in range(n_rows)],\n",
    "    'Navigateur': [random.choice(['Chrome', 'Firefox', 'Safari', 'Edge', 'Opera']) for _ in range(n_rows)],\n",
    "    'Pages vues nombre': np.random.randint(500, 1500, size=n_rows),\n",
    "    'Pages vues références': [random.choice(['Homepage', 'Category', 'Product', 'Checkout', 'Order']) for _ in range(n_rows)],\n",
    "    'Source du trafic': [random.choice(['Google', 'Réseaux sociaux', 'Email']) for _ in range(n_rows)],\n",
    "    'Système d’exploitation': [random.choice(['Windows', 'iOS', 'Android']) for _ in range(n_rows)],\n",
    "    'Taux de rebond': np.round(np.random.uniform(0.20, 0.60, size=n_rows), 2),\n",
    "    'Temps moyen sur le site': np.random.randint(1, 600, size=n_rows),\n",
    "    'Type d’appareil': [random.choice(['Ordinateur', 'Mobile', 'Tablette']) for _ in range(n_rows)],\n",
    "    'Nombre d\\'Email envoyés': np.random.randint(500, 2000, size=n_rows),\n",
    "    'Nombre d\\'Email livrés': np.random.randint(450, 1800, size=n_rows),\n",
    "    'Nombre d\\'email ouvert': np.random.randint(10, 50, size=n_rows),\n",
    "    'Taux de désabonnement': np.round(np.random.uniform(0.1, 0.2, size=n_rows), 2),\n",
    "    'Nombre de clients perdus pendant la période': np.random.randint(2, 25, size=n_rows),\n",
    "    'Nombre Total de Clients au Début de la Période': np.random.randint(500, 2000, size=n_rows),\n",
    "    'Nombre Total de Clients Récurrents': np.random.randint(50, 200, size=n_rows),\n",
    "    'Nombre Total de Clients Uniques': np.random.randint(300, 1000, size=n_rows),\n",
    "    'Nombre de visites': np.random.randint(1000, 5000, size=n_rows),  # Ajout du Nombre de visites\n",
    "}\n",
    "\n",
    "# Affichage des premières lignes pour vérifier\n",
    "import pandas as pd\n",
    "df = pd.DataFrame(data)\n",
    "print(df.head())\n",
    "\n",
    "# Vérification de l'ordre décroissant des données\n",
    "def check_decreasing_order(df):\n",
    "    check = df.apply(lambda row: row['Impressions'] >= row['Nombre de clics'] >= row['Nombre d’engagement'] >= row['Ajouts au panier'] >= row['Nombre de conversions'] >= row['Nombre de ventes'], axis=1)\n",
    "    return check.all()\n",
    "\n",
    "is_ordered = check_decreasing_order(df)\n",
    "print(\"Les données suivent-elles un ordre décroissant selon les étapes du parcours client? :\", is_ordered)\n"
   ]
  },
  {
   "cell_type": "markdown",
   "metadata": {},
   "source": [
    "Partie 2 : Définition des colonnes à déséquilibrer et des poids correspondants\n"
   ]
  },
  {
   "cell_type": "code",
   "execution_count": 2,
   "metadata": {},
   "outputs": [],
   "source": [
    "# # Colonnes à déséquilibrer\n",
    "# colonnes_desiquilibrees = ['Sexe des clients', 'Age des clients', 'Villes', 'Source du trafic', \n",
    "#                            'Navigateur', 'Pages vues références', 'Système d’exploitation', \n",
    "#                            'Type d’appareil', 'Pays']\n",
    "\n",
    "# # Définition des poids pour chaque classe\n",
    "# weights = {\n",
    "#     'Sexe des clients': {'Hommes': 0.7, 'Femmes': 0.3},\n",
    "#     'Age des clients': {'18-25': 0.07, '26-35': 0.18, '36-45': 0.3, '46-55': 0.36, '56-65': 0.08, '65+': 0.01},\n",
    "#     'Villes': {'Paris': 0.37, 'Marseille': 0.17, 'Lyon': 0.04, 'Toulouse': 0.08, 'Nice': 0.02, 'Nantes': 0.15, 'Strasbourg': 0.06, 'Montpellier': 0.03, 'Bordeaux': 0.04, 'Lille': 0.02},\n",
    "#     'Source du trafic': {'Google': 0.7, 'Réseaux sociaux': 0.2, 'Email': 0.1},\n",
    "#     'Navigateur': {'Chrome': 1.2, 'Firefox': 0.01, 'Safari': 0.4, 'Edge': 0.01, 'Opera': 0.01},\n",
    "#     'Pages vues références': {'Homepage': 0.2, 'Category': 0.15, 'Product': 0.3, 'Checkout': 0.2, 'Order': 0.15},\n",
    "#     'Système d’exploitation': {'Windows': 0.05, 'iOS': 0.1, 'Android': 0.85},\n",
    "#     'Type d’appareil': {'Ordinateur': 0.07, 'Mobile': 0.65, 'Tablette': 0.28},\n",
    "#     'Pays': {'France': 0.99, 'Autre': 0.01}  # Exemple : plus de clients en France que dans les autres pays\n",
    "# }\n"
   ]
  },
  {
   "cell_type": "code",
   "execution_count": 3,
   "metadata": {},
   "outputs": [],
   "source": [
    "# Colonnes à déséquilibrer\n",
    "colonnes_desiquilibrees = ['Sexe des clients', 'Age des clients', 'Villes', 'Source du trafic', \n",
    "                           'Navigateur', 'Pages vues références', 'Système d’exploitation', \n",
    "                           'Type d’appareil', 'Pays']\n",
    "\n",
    "# Définition des poids pour chaque classe\n",
    "weights = {\n",
    "    'Sexe des clients': {'Hommes': 0.7, 'Femmes': 0.3},\n",
    "    'Age des clients': {'18-25': 0.07, '26-35': 0.8, '36-45': 2.1, '46-55': 0.36, '56-65': 0.02, '65+': 0.01},\n",
    "    'Villes': {'Paris': 1.9, 'Marseille': 0.87, 'Lyon': 0.04, 'Toulouse': 0.11, 'Nice': 0.09, 'Nantes': 0.15, 'Strasbourg': 0.01, 'Montpellier': 0.3, 'Bordeaux': 0.04, 'Lille': 1.5},\n",
    "    'Source du trafic': {'Google': 6.1, 'Réseaux sociaux': 0.4, 'Email': 0.1},\n",
    "    'Navigateur': {'Chrome': 5, 'Firefox': 0.01, 'Safari': 1, 'Edge': 0.01, 'Opera': 0.01},\n",
    "    'Pages vues références': {'Homepage': 2.9, 'Category': 0.7, 'Product': 0.5, 'Checkout': 0.02, 'Order': 0.01},\n",
    "    'Système d’exploitation': {'Windows': 0.01, 'iOS': 0.1, 'Android': 3.1},\n",
    "    'Type d’appareil': {'Ordinateur': 0.01, 'Mobile': 5.5, 'Tablette': 1.9},\n",
    "    'Pays': {'France': 0.99, 'Autre': 0.01}  # Exemple : plus de clients en France que dans les autres pays\n",
    "}"
   ]
  },
  {
   "cell_type": "markdown",
   "metadata": {},
   "source": [
    "Partie 3 : Sur-échantillonnage avec des poids pour déséquilibrer les colonnes spécifiques\n"
   ]
  },
  {
   "cell_type": "code",
   "execution_count": 4,
   "metadata": {},
   "outputs": [],
   "source": [
    "# Sur-échantillonnage avec des poids pour déséquilibrer les colonnes spécifiques\n",
    "for colonne in colonnes_desiquilibrees:\n",
    "    # Calculer le nombre d'échantillons nécessaires pour chaque classe\n",
    "    value_counts = df[colonne].value_counts()\n",
    "    max_count = value_counts.max()\n",
    "    sample_counts = {val: int(max_count * weights[colonne].get(val, 1)) for val in value_counts.index}\n",
    "    \n",
    "    # Générer des échantillons pour chaque classe\n",
    "    samples = []\n",
    "    for val, count in sample_counts.items():\n",
    "        samples.append(df[df[colonne] == val].sample(count, replace=True))\n",
    "    \n",
    "    # Concaténer les échantillons générés\n",
    "    df = pd.concat([df] + samples)\n"
   ]
  },
  {
   "cell_type": "markdown",
   "metadata": {},
   "source": [
    "Partie 4 : Sauvegarde du DataFrame modifié en CSV\n"
   ]
  },
  {
   "cell_type": "code",
   "execution_count": 5,
   "metadata": {},
   "outputs": [
    {
     "name": "stdout",
     "output_type": "stream",
     "text": [
      "Le fichier CSV déséquilibré avec poids a été créé avec succès à l'emplacement : C:\\Users\\patri\\OneDrive\\Documents\\Famille\\Patrice\\Patrice_travail\\Booster_Croissance\\Exercices_Booster_Croissance\\Campagne_Communication\\Campagne_Communication.csv\n"
     ]
    }
   ],
   "source": [
    "# Chemin pour sauvegarder le fichier CSV modifié\n",
    "chemin_csv = r'C:\\Users\\patri\\OneDrive\\Documents\\Famille\\Patrice\\Patrice_travail\\Booster_Croissance\\Exercices_Booster_Croissance\\Campagne_Communication\\Campagne_Communication.csv'\n",
    "\n",
    "# Export du DataFrame modifié en CSV\n",
    "df.to_csv(chemin_csv, index=False)\n",
    "\n",
    "print(f\"Le fichier CSV déséquilibré avec poids a été créé avec succès à l'emplacement : {chemin_csv}\")\n"
   ]
  }
 ],
 "metadata": {
  "kernelspec": {
   "display_name": "Python 3",
   "language": "python",
   "name": "python3"
  },
  "language_info": {
   "codemirror_mode": {
    "name": "ipython",
    "version": 3
   },
   "file_extension": ".py",
   "mimetype": "text/x-python",
   "name": "python",
   "nbconvert_exporter": "python",
   "pygments_lexer": "ipython3",
   "version": "3.11.9"
  }
 },
 "nbformat": 4,
 "nbformat_minor": 2
}
